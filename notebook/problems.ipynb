{
    "cells": [
        {
            "cell_type": "markdown",
            "id": "ac622319",
            "metadata": {},
            "source": [
                "# Descriptive statistics problems"
            ]
        },
        {
            "cell_type": "markdown",
            "id": "5e0ab0d5",
            "metadata": {},
            "source": [
                "### Exercise 1\n",
                "\n",
                "We will use NumPy to obtain information to describe statistically.\n",
                "\n",
                "- Generate an array of 100 elements following a normal distribution.\n",
                "- Generate an array of 100 elements following a chi-square distribution with 3 degrees of freedom.\n",
                "- Calculate the main metrics and statistical measures that best describe the two vectors."
            ]
        },
        {
            "cell_type": "code",
            "execution_count": 25,
            "id": "34720ab6",
            "metadata": {},
            "outputs": [
                {
                    "name": "stdout",
                    "output_type": "stream",
                    "text": [
                        "Array of 100 elements following a normal distribution: \n",
                        "[ 0.44122749 -0.33087015  2.43077119 -0.25209213  0.10960984  1.58248112\n",
                        " -0.9092324  -0.59163666  0.18760323 -0.32986996 -1.19276461 -0.20487651\n",
                        " -0.35882895  0.6034716  -1.66478853 -0.70017904  1.15139101  1.85733101\n",
                        " -1.51117956  0.64484751 -0.98060789 -0.85685315 -0.87187918 -0.42250793\n",
                        "  0.99643983  0.71242127  0.05914424 -0.36331088  0.00328884 -0.10593044\n",
                        "  0.79305332 -0.63157163 -0.00619491 -0.10106761 -0.05230815  0.24921766\n",
                        "  0.19766009  1.33484857 -0.08687561  1.56153229 -0.30585302 -0.47773142\n",
                        "  0.10073819  0.35543847  0.26961241  1.29196338  1.13934298  0.4944404\n",
                        " -0.33633626 -0.10061435  1.41339802  0.22125412 -1.31077313 -0.68956523\n",
                        " -0.57751323  1.15220477 -0.10716398  2.26010677  0.65661947  0.12480683\n",
                        " -0.43570392  0.97217931 -0.24071114 -0.82412345  0.56813272  0.01275832\n",
                        "  1.18906073 -0.07359332 -2.85968797  0.7893664  -1.87774088  1.53875615\n",
                        "  1.82136474 -0.42703139 -1.16470191 -1.39707402  0.87265462 -0.20211818\n",
                        " -0.59835993 -0.2434197   2.08851469  0.34691933  0.74572695  0.77690759\n",
                        "  1.01842113  1.06135144 -0.71046645 -0.2151878  -0.76076031 -0.71116323\n",
                        "  1.14150774 -0.50175555 -0.07915136 -0.69282634 -0.59340277  0.78823794\n",
                        " -0.44542999 -0.48212019  0.49355766  0.50048733]\n",
                        "Array of 100 elements following a chi-square distribution with 3 degrees of freedom: \n",
                        "[ 4.49790851  2.72200854  0.22532069  3.9769507   0.94083138 13.11374437\n",
                        "  2.43402254  1.43127789  0.61101026  0.37331263  2.29691836  1.61232577\n",
                        "  0.41237651  1.62453237  0.06679522  1.5566336   1.05306452  7.97147913\n",
                        " 10.29091579  4.22707161  8.46392671  7.1454733   0.30287122  4.78741404\n",
                        "  0.89109253  0.50027374  0.70594833  3.28243831 11.2466144   2.25916818\n",
                        "  1.19704276  3.73031406  2.81834915  3.16475802  1.39551761  3.63860387\n",
                        "  3.58444801  1.11623289  3.49654051  2.55918166  6.09451945  0.97974116\n",
                        "  2.03760064  1.88176258  3.52104157  1.54809591  2.91567541  5.79249588\n",
                        "  0.77573027  4.89188871  4.90329587  3.93869313  1.24734827  4.98329277\n",
                        "  2.822028    0.74103608  0.47342946  1.65716272  1.50485838  1.22914485\n",
                        "  0.69080275  1.86614687  6.56922907  1.62430287  1.94315448  4.58972927\n",
                        "  3.68052097  2.05523514  4.633664    2.29604639  2.0682818   0.3670643\n",
                        "  0.51499831  1.61217961  2.40897564  1.7201416   1.25237341  1.82373405\n",
                        "  1.13255736  3.361107    4.18363864  4.86545326  1.99208816  6.64690248\n",
                        "  4.72660801  1.7657429   1.34967832  3.72325824  2.18522059  3.0386895\n",
                        "  0.49898254  1.30576068  3.97258721  1.52941514  2.44067091  0.12269166\n",
                        "  0.36097268  5.94649221  5.52512351  0.51807488]\n"
                    ]
                }
            ],
            "source": [
                "import numpy as np\n",
                "\n",
                "# We specify a seed value for consistency\n",
                "np.random.seed(5)\n",
                "\n",
                "# WE GENERATE THE ARRAYS\n",
                "array_normal = np.random.normal(size= 100)\n",
                "array_chisquare = np.random.chisquare(3,100)\n",
                "\n",
                "# WE DISPLAY THE ARRAYS TO CHECK THEY WERE CREATED CORRECTLY.\n",
                "print (f'''Array of 100 elements following a normal distribution: \n",
                "{array_normal}\n",
                "Array of 100 elements following a chi-square distribution with 3 degrees of freedom: \n",
                "{array_chisquare}''')"
            ]
        },
        {
            "cell_type": "markdown",
            "id": "dbe3d070",
            "metadata": {},
            "source": [
                "### We will now analyse the main metrics and statistical measures.\n",
                "    · Center tendencies (MEAN, MEDIAN, MODE)\n",
                "    · Dispersion ( Range, Variance, Standard Deviation, Boxplot)\n",
                "    · Shape (Skewness, Kurtosis)"
            ]
        },
        {
            "cell_type": "markdown",
            "id": "83f3af0c",
            "metadata": {},
            "source": [
                "### CENTER TENDENCIES:"
            ]
        },
        {
            "cell_type": "code",
            "execution_count": 26,
            "id": "308fc944",
            "metadata": {},
            "outputs": [
                {
                    "name": "stdout",
                    "output_type": "stream",
                    "text": [
                        "The mean for the normal distribution is: 0.09154664386777675\n",
                        "The mean for the chi square distribution is 2.845718471844506\n",
                        "...\n",
                        "The median for the normal distribution is: -0.06295073480035011\n",
                        "The median for the chi square distribution is 2.0617584704739125\n",
                        "...\n",
                        "The mode for the normal distribution is: 0.44122748688504143\n",
                        "The mode for the chi square distribution is 4.497908512717924\n"
                    ]
                }
            ],
            "source": [
                "# We import statistics to be able to calculate MEAN, MEDIAN & MODE.\n",
                "import statistics as stats\n",
                "\n",
                "#We calculate the mean for both arrays.\n",
                "mean_normal = stats.mean(array_normal)\n",
                "mean_chisquare = stats.mean(array_chisquare)\n",
                "\n",
                "print (f'''The mean for the normal distribution is: {mean_normal}\n",
                "The mean for the chi square distribution is {mean_chisquare}\n",
                "...''')\n",
                "\n",
                "#We calculate the median for both arrays.\n",
                "median_normal = stats.median(array_normal)\n",
                "median_chisquare = stats.median(array_chisquare)\n",
                "\n",
                "print (f'''The median for the normal distribution is: {median_normal}\n",
                "The median for the chi square distribution is {median_chisquare}\n",
                "...''')\n",
                "\n",
                "#We calculate the mode for both arrays.\n",
                "mode_normal = stats.mode(array_normal)\n",
                "mode_chisquare = stats.mode(array_chisquare)\n",
                "\n",
                "print (f'''The mode for the normal distribution is: {mode_normal}\n",
                "The mode for the chi square distribution is {mode_chisquare}''')\n",
                "\n"
            ]
        },
        {
            "cell_type": "markdown",
            "id": "1027c1d9",
            "metadata": {},
            "source": [
                "### DISPERSION:"
            ]
        },
        {
            "cell_type": "code",
            "execution_count": 27,
            "id": "6a14aaca",
            "metadata": {},
            "outputs": [
                {
                    "name": "stdout",
                    "output_type": "stream",
                    "text": [
                        "The range for the normal distribution is: 5.290459153630335\n",
                        "The range for the chi square distribution is 13.046949158151872\n",
                        "...\n",
                        "The variance for the normal distribution is: 0.8754723453838419\n",
                        "The variance for the chi square distribution is 5.91274459712278\n",
                        "...\n",
                        "The Standard Deviation for the normal distribution is: 0.9356667918569312\n",
                        "The Standard Deviation for the chi square distribution is 2.4316135789065623\n",
                        "...\n"
                    ]
                },
                {
                    "data": {
                        "image/png": "[encoded data removed]",
                        "text/plain": [
                            "<Figure size 640x480 with 1 Axes>"
                        ]
                    },
                    "metadata": {},
                    "output_type": "display_data"
                }
            ],
            "source": [
                "# We calculate RANGE for both arrays.\n",
                "range_normal = max(array_normal) - min(array_normal)\n",
                "range_chisquare = max(array_chisquare) - min(array_chisquare)\n",
                "\n",
                "print (f'''The range for the normal distribution is: {range_normal}\n",
                "The range for the chi square distribution is {range_chisquare}\n",
                "...''')\n",
                "\n",
                "# We calculate Variance for both arrays.\n",
                "variance_normal = stats.variance(array_normal)\n",
                "variance_chisquare = stats.variance(array_chisquare)\n",
                "\n",
                "print (f'''The variance for the normal distribution is: {variance_normal}\n",
                "The variance for the chi square distribution is {variance_chisquare}\n",
                "...''')\n",
                "\n",
                "# We calculate Standard Deviation for both arrays.\n",
                "stdev_normal = stats.stdev(array_normal)\n",
                "stdev_chisquare = stats.stdev(array_chisquare)\n",
                "\n",
                "print (f'''The Standard Deviation for the normal distribution is: {stdev_normal}\n",
                "The Standard Deviation for the chi square distribution is {stdev_chisquare}\n",
                "...''')\n",
                "\n",
                "# We import matplotlib to be able to visualize a boxplot.\n",
                "import matplotlib.pyplot as plt \n",
                "# We draw the boxplot to visually represent the spread and variability of both datasets.\n",
                "plt.figure()\n",
                "plt.boxplot([array_normal, array_chisquare], tick_labels=['Normal Distribution', 'Chi-Square Distribution'])\n",
                "plt.title('Boxplot for array_normal and array_chisquare')\n",
                "plt.ylabel('Values')\n",
                "plt.show()\n"
            ]
        },
        {
            "cell_type": "markdown",
            "id": "76610d9b",
            "metadata": {},
            "source": [
                "### SHAPE"
            ]
        },
        {
            "cell_type": "code",
            "execution_count": 28,
            "id": "56becd42",
            "metadata": {},
            "outputs": [
                {
                    "name": "stdout",
                    "output_type": "stream",
                    "text": [
                        "The Skew for the normal distribution is: 0.06293016891399186\n",
                        "The Skew for the chi square distribution is 1.7150434340597356\n",
                        "...\n",
                        "The kurtosis for the normal distribution is: 0.32487940670340043\n",
                        "The kurtosis for the chi square distribution is 3.6612928362066937\n",
                        "...\n"
                    ]
                }
            ],
            "source": [
                "# To be able to analise the skewness and the kurtosis, we will import both from scipy.stats\n",
                "from scipy.stats import skew, kurtosis\n",
                "\n",
                "# We check the skewness of the arrays\n",
                "skew_normal = skew(array_normal)\n",
                "skew_chisquare = skew(array_chisquare)\n",
                "\n",
                "print (f'''The Skew for the normal distribution is: {skew_normal}\n",
                "The Skew for the chi square distribution is {skew_chisquare}\n",
                "...''')\n",
                "\n",
                "# We check the kurtosis of the arrays\n",
                "kurtosis_normal = kurtosis(array_normal)\n",
                "kurtosis_chisquare = kurtosis(array_chisquare)\n",
                "\n",
                "print (f'''The kurtosis for the normal distribution is: {kurtosis_normal}\n",
                "The kurtosis for the chi square distribution is {kurtosis_chisquare}\n",
                "...''')\n"
            ]
        },
        {
            "cell_type": "markdown",
            "id": "46c70c3d",
            "metadata": {},
            "source": [
                "### Exercise 2\n",
                "\n",
                "Write a Python program to calculate the standard deviation of the following data:\n",
                "\n",
                "```py\n",
                "data = [4, 2, 5, 8, 6]\n",
                "```"
            ]
        },
        {
            "cell_type": "code",
            "execution_count": 29,
            "id": "d590308e",
            "metadata": {},
            "outputs": [],
            "source": [
                "# TODO"
            ]
        }
    ],
    "metadata": {
        "interpreter": {
            "hash": "9248718ffe6ce6938b217e69dbcc175ea21f4c6b28a317e96c05334edae734bb"
        },
        "kernelspec": {
            "display_name": "Python 3.9.12 ('ML-BOOTCAMP')",
            "language": "python",
            "name": "python3"
        },
        "language_info": {
            "codemirror_mode": {
                "name": "ipython",
                "version": 3
            },
            "file_extension": ".py",
            "mimetype": "text/x-python",
            "name": "python",
            "nbconvert_exporter": "python",
            "pygments_lexer": "ipython3",
            "version": "3.12.4"
        }
    },
    "nbformat": 4,
    "nbformat_minor": 5
}
