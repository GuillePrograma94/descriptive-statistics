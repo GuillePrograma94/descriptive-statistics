{
    "cells": [
        {
            "cell_type": "markdown",
            "id": "ac622319",
            "metadata": {},
            "source": [
                "# Descriptive statistics problems"
            ]
        },
        {
            "cell_type": "markdown",
            "id": "5e0ab0d5",
            "metadata": {},
            "source": [
                "### Exercise 1\n",
                "\n",
                "We will use NumPy to obtain information to describe statistically.\n",
                "\n",
                "- Generate an array of 100 elements following a normal distribution.\n",
                "- Generate an array of 100 elements following a chi-square distribution with 3 degrees of freedom.\n",
                "- Calculate the main metrics and statistical measures that best describe the two vectors."
            ]
        },
        {
            "cell_type": "code",
            "execution_count": 4,
            "id": "34720ab6",
            "metadata": {},
            "outputs": [
                {
                    "name": "stdout",
                    "output_type": "stream",
                    "text": [
                        "Array of 100 elements following a normal distribution: \n",
                        "[-0.09519179  1.0509887   0.54246386  0.2408515   0.64083066  0.67716815\n",
                        "  0.17226837 -0.35072062 -0.27415897 -0.33315984  1.57533773  0.79850891\n",
                        "  0.95467213  0.74012988  0.98457927 -0.39678078  0.02029952  0.71970056\n",
                        "  0.40406876  0.72846641  0.61598115  0.73434419  0.7692593  -0.71475863\n",
                        " -0.0917919   0.0574791  -1.37389507 -0.92707862 -2.20236154  0.60983074\n",
                        "  1.77679241  0.17174581 -1.48054461  0.04012101  1.01565574 -0.45970772\n",
                        " -0.70426274 -0.04840868  0.59020533 -1.11627722 -0.2395652  -0.00667201\n",
                        "  0.68821691  1.23618355  1.34750115 -0.66495096 -1.18564985 -0.96544013\n",
                        " -1.89173572 -1.51556752 -1.67575154  0.16718086  0.1449113  -0.42449182\n",
                        " -0.20081743  1.55863797  0.07635353  0.33913704  0.01582682 -0.53949872\n",
                        " -1.05058375  0.70007494  0.84861158 -1.04357797  1.73294159 -0.55924617\n",
                        "  0.582659    0.42768392 -0.60210581  1.46196854  1.13411679 -0.29595735\n",
                        "  0.64983507 -0.53230196 -1.31812515  0.39339552  0.03426083 -1.04775542\n",
                        " -0.13076174 -0.20682115  1.19787435 -1.9451311  -0.50255904 -0.65414031\n",
                        "  1.51664079 -0.20399871  1.02539362 -1.38912217  1.72737101  0.75511775\n",
                        " -2.18236707 -1.74522627 -0.08348297  0.42367587 -1.16440952  0.70701911\n",
                        " -1.89440649 -0.55206508  0.13081     0.02634933]\n",
                        "Array of 100 elements following a chi-square distribution with 3 degrees of freedom: \n",
                        "[ 0.6536498   1.62930207  0.06730207  2.28309408  1.41159082  1.38784029\n",
                        "  0.43719293  0.80282255  0.24898325  1.38567526  7.50011139  3.80190235\n",
                        "  3.23851083  0.99762929  0.77339798  2.55252402  7.02640405  2.58278776\n",
                        "  0.90619994  1.18528709  3.17837847  2.082888    0.74625224  1.32100145\n",
                        "  6.19496467  5.89394881  9.88204554  4.65152527  0.70009291  3.37499029\n",
                        "  6.6094098   2.25599819  0.82340701  2.94090551  6.54215985  2.37782008\n",
                        "  2.00953255  2.02141214  0.77640381  2.54865794  3.40960254  1.82893011\n",
                        "  2.68419357  1.38000075  0.53886043  4.53356908  5.19049166  1.44684464\n",
                        "  2.84541228  0.25692217  1.58971524  2.56754517  3.02424998  1.01121611\n",
                        "  3.68017029  4.25096464  2.09119818  0.54709577  0.87086017  1.97307377\n",
                        "  3.08229419  1.10719548  0.53250438  1.10179816  1.57671264  0.21523565\n",
                        "  0.18567327  2.99247462  3.06008124  1.9540263   4.09220378  6.0396174\n",
                        "  5.44759868  0.65785639  2.36625296  5.8278747   2.15941104  1.3554267\n",
                        "  8.83443847  2.18311058  1.10618061  3.38838087  3.22615895  4.25786449\n",
                        "  2.12741754  5.50323149  2.27968481  1.821288    0.82812115  0.885003\n",
                        "  1.66400106  4.98604155 11.334852    1.07087281  2.79798082  1.69162508\n",
                        "  0.9525633   1.05953736  2.44574254  1.82391104]\n"
                    ]
                }
            ],
            "source": [
                "import numpy as np\n",
                "\n",
                "array_1 = np.random.normal(size= 100)\n",
                "array_2 = np.random.chisquare(3,100)\n",
                "\n",
                "print (f'''Array of 100 elements following a normal distribution: \n",
                "{array_1}\n",
                "Array of 100 elements following a chi-square distribution with 3 degrees of freedom: \n",
                "{array_2}''')"
            ]
        },
        {
            "cell_type": "markdown",
            "id": "46c70c3d",
            "metadata": {},
            "source": [
                "### Exercise 2\n",
                "\n",
                "Write a Python program to calculate the standard deviation of the following data:\n",
                "\n",
                "```py\n",
                "data = [4, 2, 5, 8, 6]\n",
                "```"
            ]
        },
        {
            "cell_type": "code",
            "execution_count": 2,
            "id": "d590308e",
            "metadata": {},
            "outputs": [],
            "source": [
                "# TODO"
            ]
        }
    ],
    "metadata": {
        "interpreter": {
            "hash": "9248718ffe6ce6938b217e69dbcc175ea21f4c6b28a317e96c05334edae734bb"
        },
        "kernelspec": {
            "display_name": "Python 3.9.12 ('ML-BOOTCAMP')",
            "language": "python",
            "name": "python3"
        },
        "language_info": {
            "codemirror_mode": {
                "name": "ipython",
                "version": 3
            },
            "file_extension": ".py",
            "mimetype": "text/x-python",
            "name": "python",
            "nbconvert_exporter": "python",
            "pygments_lexer": "ipython3",
            "version": "3.12.4"
        }
    },
    "nbformat": 4,
    "nbformat_minor": 5
}
